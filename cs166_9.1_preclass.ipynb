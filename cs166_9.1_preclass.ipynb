{
 "cells": [
  {
   "cell_type": "code",
   "execution_count": 18,
   "metadata": {},
   "outputs": [],
   "source": [
    "import matplotlib\n",
    "import random\n",
    "from pylab import *\n",
    "matplotlib.use('TkAgg')\n",
    "\n",
    "def initialize(n,p_e):\n",
    "    global g\n",
    "    g = nx.generators.random_graphs.erdos_renyi_graph(n, p_e)\n",
    "    g.pos = nx.spring_layout(g)\n",
    "    for i in g.nodes:\n",
    "        g.nodes[i]['state'] = 1 if random() < .5 else 0\n",
    "\n",
    "def observe():\n",
    "    global g\n",
    "    cla()\n",
    "    nx.draw(g, vmin = 0, vmax = 1,\n",
    "            node_color = [g.nodes[i]['state'] for i in g.nodes],\n",
    "            pos = g.pos)\n",
    "\n",
    "def update():\n",
    "    global g\n",
    "    g2 = g.copy()\n",
    "    g2.pos = g.pos\n",
    "    for a in list(g.nodes):\n",
    "        if g.nodes[a]['state'] == 0: # if susceptible\n",
    "            for b in list(g.neighbors(a)):\n",
    "                if g.nodes[b]['state'] == 1: # if neighbor b is infected\n",
    "                    g2.nodes[a]['state'] = 1 if random() < p_i else 0\n",
    "        else: # if infected\n",
    "            g2.nodes[a]['state'] = 0 if random() < p_r else 1\n",
    "    g = g2"
   ]
  },
  {
   "cell_type": "code",
   "execution_count": 25,
   "metadata": {},
   "outputs": [],
   "source": [
    "\n",
    "n, p_e, p_i, p_r = 100, 0.1, 0.5, 0.5\n",
    "n, p_e, p_i, p_r = 100, 0.1, 0.04, 0.5\n",
    "n, p_e, p_i, p_r = 200, 0.1, 0.04, 0.5\n",
    "n, p_e, p_i, p_r = 200, 0.05, 0.04, 0.5\n",
    "initialize(n,p_e)\n",
    "for i in range(10):\n",
    "    update()\n",
    "observe()"
   ]
  },
  {
   "cell_type": "code",
   "execution_count": 21,
   "metadata": {},
   "outputs": [
    {
     "name": "stdout",
     "output_type": "stream",
     "text": [
      "You have, on average, 40.0 friends.\n",
      "Your friends have, on average, 40.96435 friends. \n",
      "\n",
      "You have, on average, 40.0 friends.\n",
      "Your friends have, on average, 40.0898 friends. \n",
      "\n",
      "You have, on average, 80.472 friends.\n",
      "Your friends have, on average, 112.32736852569838 friends. \n",
      "\n"
     ]
    }
   ],
   "source": [
    "from networkx import gnm_random_graph\n",
    "from networkx.generators.random_graphs import watts_strogatz_graph, barabasi_albert_graph\n",
    "\n",
    "for g in [gnm_random_graph(1000,20000), \n",
    "          watts_strogatz_graph(1000, 40, .1), \n",
    "          barabasi_albert_graph(1000, 42)]:\n",
    "    print(f\"You have, on average, {np.mean(g.degree, axis=0)[1]} friends.\")\n",
    "    print(f\"Your friends have, on average, {np.mean([(g.degree[e[0]], g.degree[e[1]]) for e in g.edges])} friends. \\n\")"
   ]
  },
  {
   "cell_type": "code",
   "execution_count": null,
   "metadata": {},
   "outputs": [],
   "source": []
  }
 ],
 "metadata": {
  "kernelspec": {
   "display_name": "Python 3",
   "language": "python",
   "name": "python3"
  },
  "language_info": {
   "codemirror_mode": {
    "name": "ipython",
    "version": 3
   },
   "file_extension": ".py",
   "mimetype": "text/x-python",
   "name": "python",
   "nbconvert_exporter": "python",
   "pygments_lexer": "ipython3",
   "version": "3.7.3"
  }
 },
 "nbformat": 4,
 "nbformat_minor": 2
}
